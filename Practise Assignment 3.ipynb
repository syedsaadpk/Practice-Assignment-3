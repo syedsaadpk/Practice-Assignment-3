{
 "cells": [
  {
   "cell_type": "markdown",
   "metadata": {},
   "source": [
    "# Q1:"
   ]
  },
  {
   "cell_type": "markdown",
   "metadata": {},
   "source": [
    "Think of at least three kinds of your favorite pizza. Store these pizza names in a list, and then use a for loop to print the name of each pizza."
   ]
  },
  {
   "cell_type": "code",
   "execution_count": 2,
   "metadata": {},
   "outputs": [],
   "source": [
    "pizza_name = ['Chiken Tikka','Cheez','Tandoori Chicken']"
   ]
  },
  {
   "cell_type": "code",
   "execution_count": 3,
   "metadata": {},
   "outputs": [
    {
     "name": "stdout",
     "output_type": "stream",
     "text": [
      "Pizza Names: \n",
      "Chiken Tikka\n",
      "Cheez\n",
      "Tandoori Chicken\n"
     ]
    }
   ],
   "source": [
    "print('Pizza Names: ')\n",
    "for pizza in pizza_name:\n",
    "    print(pizza)"
   ]
  },
  {
   "cell_type": "code",
   "execution_count": null,
   "metadata": {},
   "outputs": [],
   "source": []
  },
  {
   "cell_type": "markdown",
   "metadata": {},
   "source": [
    "# Q2"
   ]
  },
  {
   "cell_type": "markdown",
   "metadata": {},
   "source": [
    "Start with your last question , Modify your for loop to print a sentence using the name of the pizza\n",
    "instead of printing just the name of the pizza. For each pizza you should\n",
    "have one line of output containing a simple statement like I like pepperoni\n",
    "pizza."
   ]
  },
  {
   "cell_type": "code",
   "execution_count": 4,
   "metadata": {},
   "outputs": [],
   "source": [
    "pizza_name = ['Chicken Tikka','Cheez Tikka','Tandoori Chicken Tikka']"
   ]
  },
  {
   "cell_type": "code",
   "execution_count": 5,
   "metadata": {},
   "outputs": [
    {
     "name": "stdout",
     "output_type": "stream",
     "text": [
      "Pizza Names: \n",
      "I like Chicken Tikka Pizza\n",
      "Cheez is my favourite pizza\n",
      "Tandoori Chicken Tikka is a tasty pizza\n"
     ]
    }
   ],
   "source": [
    "print('Pizza Names: ')\n",
    "\n",
    "for pizza in pizza_name:\n",
    "    if pizza == 'Chicken Tikka':\n",
    "        print('I like Chicken Tikka Pizza')\n",
    "    elif pizza == 'Cheez Tikka':\n",
    "        print('Cheez is my favourite pizza')\n",
    "    else:\n",
    "        print('Tandoori Chicken Tikka is a tasty pizza')"
   ]
  },
  {
   "cell_type": "code",
   "execution_count": null,
   "metadata": {},
   "outputs": [],
   "source": []
  },
  {
   "cell_type": "markdown",
   "metadata": {},
   "source": [
    "# Q3:"
   ]
  },
  {
   "cell_type": "markdown",
   "metadata": {},
   "source": [
    "Use a for loop to print the numbers from 1 to 20,\n",
    "inclusive."
   ]
  },
  {
   "cell_type": "code",
   "execution_count": 1,
   "metadata": {},
   "outputs": [
    {
     "name": "stdout",
     "output_type": "stream",
     "text": [
      "1\n",
      "2\n",
      "3\n",
      "4\n",
      "5\n",
      "6\n",
      "7\n",
      "8\n",
      "9\n",
      "10\n",
      "11\n",
      "12\n",
      "13\n",
      "14\n",
      "15\n",
      "16\n",
      "17\n",
      "18\n",
      "19\n",
      "20\n"
     ]
    }
   ],
   "source": [
    "for num in range(1,21):\n",
    "    print(num)"
   ]
  },
  {
   "cell_type": "code",
   "execution_count": null,
   "metadata": {},
   "outputs": [],
   "source": []
  },
  {
   "cell_type": "code",
   "execution_count": null,
   "metadata": {},
   "outputs": [],
   "source": []
  },
  {
   "cell_type": "markdown",
   "metadata": {},
   "source": [
    "# Q4:"
   ]
  },
  {
   "cell_type": "markdown",
   "metadata": {},
   "source": [
    "Use the third argument of the range() function to make a list\n",
    "of the odd numbers from 1 to 20. Use a for loop to print each number."
   ]
  },
  {
   "cell_type": "code",
   "execution_count": 2,
   "metadata": {},
   "outputs": [
    {
     "name": "stdout",
     "output_type": "stream",
     "text": [
      "1 3 5 7 9 11 13 15 17 19 "
     ]
    }
   ],
   "source": [
    "for num in range(1,20,2):\n",
    "    print(num, end = ' ')"
   ]
  },
  {
   "cell_type": "code",
   "execution_count": null,
   "metadata": {},
   "outputs": [],
   "source": []
  },
  {
   "cell_type": "code",
   "execution_count": null,
   "metadata": {},
   "outputs": [],
   "source": []
  },
  {
   "cell_type": "markdown",
   "metadata": {},
   "source": [
    "# Q5:"
   ]
  },
  {
   "cell_type": "markdown",
   "metadata": {},
   "source": [
    "Make a list of the multiples of 3 from 3 to 30. Use a for loop to\n",
    "print the numbers in your list."
   ]
  },
  {
   "cell_type": "code",
   "execution_count": 5,
   "metadata": {},
   "outputs": [
    {
     "name": "stdout",
     "output_type": "stream",
     "text": [
      "Multiples of 3 are: \n",
      "3 6 9 12 15 18 21 24 27 30 "
     ]
    }
   ],
   "source": [
    "print('Multiples of 3 are: ')\n",
    "multiples_of_3 = [3,6,9,12,15,18,21,24,27,30]\n",
    "for num in multiples_of_3:\n",
    "    print (num, end = ' ')"
   ]
  },
  {
   "cell_type": "code",
   "execution_count": null,
   "metadata": {},
   "outputs": [],
   "source": []
  },
  {
   "cell_type": "code",
   "execution_count": null,
   "metadata": {},
   "outputs": [],
   "source": []
  },
  {
   "cell_type": "code",
   "execution_count": null,
   "metadata": {},
   "outputs": [],
   "source": []
  },
  {
   "cell_type": "markdown",
   "metadata": {},
   "source": [
    "# Q6:"
   ]
  },
  {
   "cell_type": "markdown",
   "metadata": {},
   "source": [
    "A number raised to the third power is called a cube. For example,\n",
    "the cube of 2 is written as 2**3 in Python. Make a list of the first 10 cubes (that\n",
    "is, the cube of each integer from 1 through 10), and use a for loop to print out\n",
    "the value of each cube"
   ]
  },
  {
   "cell_type": "code",
   "execution_count": 3,
   "metadata": {},
   "outputs": [
    {
     "name": "stdout",
     "output_type": "stream",
     "text": [
      "Cubes are: \n"
     ]
    },
    {
     "data": {
      "text/plain": [
       "[1, 4, 9, 16, 25, 36, 49, 64, 81, 100]"
      ]
     },
     "execution_count": 3,
     "metadata": {},
     "output_type": "execute_result"
    }
   ],
   "source": [
    "print('Cubes are: ')\n",
    "cubes = [1,2,3,4,5,6,7,8,9,10]\n",
    "values = []\n",
    "for num in cubes:\n",
    "    values.append(num**2)\n",
    "values"
   ]
  },
  {
   "cell_type": "code",
   "execution_count": null,
   "metadata": {},
   "outputs": [],
   "source": []
  },
  {
   "cell_type": "code",
   "execution_count": null,
   "metadata": {},
   "outputs": [],
   "source": []
  },
  {
   "cell_type": "code",
   "execution_count": null,
   "metadata": {},
   "outputs": [],
   "source": []
  },
  {
   "cell_type": "markdown",
   "metadata": {},
   "source": [
    "# Q7:"
   ]
  },
  {
   "cell_type": "markdown",
   "metadata": {},
   "source": [
    "###### Make a python program that conatains your nine favourite dishes in a list called foods.\n",
    "\n",
    "###### Print the message, The first three items in the list are:. \n",
    "###### Then use a slice to print the first three items from that program’s list.\n",
    "\n",
    "###### Print the message, Three items from the middle of the list are:\n",
    "###### Use a slice to print three items from the middle of the list.\n",
    "\n",
    "###### Print the message, The last three items in the list are:\n",
    "###### Use a slice to print the last three items in the list."
   ]
  },
  {
   "cell_type": "code",
   "execution_count": 22,
   "metadata": {},
   "outputs": [],
   "source": [
    "foods = ['Biryani','Qourma','Karahi Gosht','Achar Gosht','Tandoori Chicken','Pilao','Chicken Rise','Chargha','Chinees Rise','Chikcken Tikka']"
   ]
  },
  {
   "cell_type": "code",
   "execution_count": 23,
   "metadata": {},
   "outputs": [
    {
     "name": "stdout",
     "output_type": "stream",
     "text": [
      "The first three items in the list are: \n"
     ]
    },
    {
     "data": {
      "text/plain": [
       "['Biryani', 'Qourma', 'Karahi Gosht']"
      ]
     },
     "execution_count": 23,
     "metadata": {},
     "output_type": "execute_result"
    }
   ],
   "source": [
    "print('The first three items in the list are: ')\n",
    "foods[0:3]"
   ]
  },
  {
   "cell_type": "code",
   "execution_count": 24,
   "metadata": {},
   "outputs": [
    {
     "name": "stdout",
     "output_type": "stream",
     "text": [
      "Three items from the middle of the list are: \n"
     ]
    },
    {
     "data": {
      "text/plain": [
       "['Achar Gosht', 'Tandoori Chicken', 'Pilao']"
      ]
     },
     "execution_count": 24,
     "metadata": {},
     "output_type": "execute_result"
    }
   ],
   "source": [
    "print('Three items from the middle of the list are: ')\n",
    "foods[3:6]"
   ]
  },
  {
   "cell_type": "code",
   "execution_count": 25,
   "metadata": {},
   "outputs": [
    {
     "name": "stdout",
     "output_type": "stream",
     "text": [
      "The last four items in the list are: \n"
     ]
    },
    {
     "data": {
      "text/plain": [
       "['Chicken Rise', 'Chargha', 'Chinees Rise', 'Chikcken Tikka']"
      ]
     },
     "execution_count": 25,
     "metadata": {},
     "output_type": "execute_result"
    }
   ],
   "source": [
    "print('The last four items in the list are: ')\n",
    "foods[6:]"
   ]
  },
  {
   "cell_type": "code",
   "execution_count": null,
   "metadata": {},
   "outputs": [],
   "source": []
  },
  {
   "cell_type": "code",
   "execution_count": null,
   "metadata": {},
   "outputs": [],
   "source": []
  },
  {
   "cell_type": "code",
   "execution_count": null,
   "metadata": {},
   "outputs": [],
   "source": []
  },
  {
   "cell_type": "markdown",
   "metadata": {},
   "source": [
    "# Q8:"
   ]
  },
  {
   "cell_type": "markdown",
   "metadata": {},
   "source": [
    "### Start with your program from your last Question8.\n",
    "###### Make a copy of the list of foods, and call it friend_foods.\n",
    "###### Then, do the following:\n",
    "######    Add a new dish to the original list.\n",
    "######    Add a different dish to the list friend_foodss.\n",
    "######    Prove that you have two separate lists. \n",
    "###### Print the message, My favorite pizzas are: and then use a for loop to print the first list. \n",
    "###### Print the message,\n",
    "###### My friend’s favorite foods are:, and then use a for loop to print the second list.\n",
    "    \n",
    "##### NOTE: Make sure each new dish is stored in the appropriate list."
   ]
  },
  {
   "cell_type": "code",
   "execution_count": 26,
   "metadata": {},
   "outputs": [],
   "source": [
    "friend_foods = foods.copy()"
   ]
  },
  {
   "cell_type": "code",
   "execution_count": 28,
   "metadata": {},
   "outputs": [],
   "source": [
    "foods.append('Shawarma')"
   ]
  },
  {
   "cell_type": "code",
   "execution_count": 29,
   "metadata": {},
   "outputs": [],
   "source": [
    "friend_foods.append('Burger')"
   ]
  },
  {
   "cell_type": "code",
   "execution_count": 30,
   "metadata": {},
   "outputs": [
    {
     "name": "stdout",
     "output_type": "stream",
     "text": [
      "My favourite dishes are:\n",
      "Biryani\n",
      "Qourma\n",
      "Karahi Gosht\n",
      "Achar Gosht\n",
      "Tandoori Chicken\n",
      "Pilao\n",
      "Chicken Rise\n",
      "Chargha\n",
      "Chinees Rise\n",
      "Chikcken Tikka\n",
      "Shawarma\n"
     ]
    }
   ],
   "source": [
    "print('My favourite dishes are:')\n",
    "for food in foods:\n",
    "    print(food)"
   ]
  },
  {
   "cell_type": "code",
   "execution_count": 31,
   "metadata": {},
   "outputs": [
    {
     "name": "stdout",
     "output_type": "stream",
     "text": [
      "My friends's favourite dishes are\n",
      "Biryani\n",
      "Qourma\n",
      "Karahi Gosht\n",
      "Achar Gosht\n",
      "Tandoori Chicken\n",
      "Pilao\n",
      "Chicken Rise\n",
      "Chargha\n",
      "Chinees Rise\n",
      "Chikcken Tikka\n",
      "Burger\n"
     ]
    }
   ],
   "source": [
    "print('My friends\\'s favourite dishes are')\n",
    "for dish in friend_foods:\n",
    "    print(dish)"
   ]
  },
  {
   "cell_type": "code",
   "execution_count": null,
   "metadata": {},
   "outputs": [],
   "source": [
    " "
   ]
  },
  {
   "cell_type": "code",
   "execution_count": null,
   "metadata": {},
   "outputs": [],
   "source": []
  },
  {
   "cell_type": "markdown",
   "metadata": {},
   "source": [
    "# Q9:"
   ]
  },
  {
   "cell_type": "markdown",
   "metadata": {},
   "source": [
    "Take a user input from console line.Store it in a variable called Alien_color.\n",
    "\n",
    "If the alien’s color is red, print a statement that the player just earned 5 points for shooting the alien.\n",
    "\n",
    "If the alien’s color isn’t green, print a statement that the player just earned 10 points.\n",
    "\n",
    "If the alien's color isn't red or green , print a statment :, Alien is no more....."
   ]
  },
  {
   "cell_type": "code",
   "execution_count": 35,
   "metadata": {},
   "outputs": [
    {
     "name": "stdout",
     "output_type": "stream",
     "text": [
      "Enter a color name: red\n",
      "You have earned just 5 points for shooting the alien \n"
     ]
    }
   ],
   "source": [
    "Alien_color = input('Enter a color name: ').lower()\n",
    "if Alien_color == 'red':\n",
    "    print('You have earned just 5 points for shooting the alien ')\n",
    "elif Alien_color == 'green':\n",
    "    print('You have earned just 10 points')\n",
    "else:\n",
    "    print('Alien is no more')"
   ]
  },
  {
   "cell_type": "code",
   "execution_count": 36,
   "metadata": {},
   "outputs": [
    {
     "name": "stdout",
     "output_type": "stream",
     "text": [
      "Enter a color name: green\n",
      "You have earned just 10 points\n"
     ]
    }
   ],
   "source": [
    "Alien_color = input('Enter a color name: ').lower()\n",
    "if Alien_color == 'red':\n",
    "    print('You have earned just 5 points for shooting the alien ')\n",
    "elif Alien_color == 'green':\n",
    "    print('You have earned just 10 points')\n",
    "else:\n",
    "    print('Alien is no more')"
   ]
  },
  {
   "cell_type": "code",
   "execution_count": 37,
   "metadata": {},
   "outputs": [
    {
     "name": "stdout",
     "output_type": "stream",
     "text": [
      "Enter a color name: blue\n",
      "Alien is no more\n"
     ]
    }
   ],
   "source": [
    "Alien_color = input('Enter a color name: ').lower()\n",
    "if Alien_color == 'red':\n",
    "    print('You have earned just 5 points for shooting the alien ')\n",
    "elif Alien_color == 'green':\n",
    "    print('You have earned just 10 points')\n",
    "else:\n",
    "    print('Alien is no more')"
   ]
  },
  {
   "cell_type": "code",
   "execution_count": null,
   "metadata": {},
   "outputs": [],
   "source": []
  },
  {
   "cell_type": "markdown",
   "metadata": {},
   "source": [
    "# Q10:"
   ]
  },
  {
   "cell_type": "markdown",
   "metadata": {},
   "source": [
    "Write an if-elif-else chain that determines a person’s\n",
    "stage of life. Set a value for the variable age, and then:\n",
    "    \n",
    "•\t If the person is less than 2 years old, print a message that the person is a baby.\n",
    "\n",
    "•\t If the person is at least 2 years old but less than 4, print a message that the person is a toddler.\n",
    "\n",
    "•\t If the person is at least 4 years old but less than 13, print a message that the person is a kid.\n",
    "\n",
    "•\t If the person is at least 13 years old but less than 20, print a message that the person is a teenager.\n",
    "\n",
    "•\t If the person is at least 20 years old but less than 65, print a message that the person is an adult.\n",
    "\n",
    "•\t If the person is age 65 or older, print a message that the person is an elder."
   ]
  },
  {
   "cell_type": "code",
   "execution_count": 116,
   "metadata": {},
   "outputs": [
    {
     "name": "stdout",
     "output_type": "stream",
     "text": [
      "Enter your age and determine the status of your life: 1\n",
      "You are baby \n"
     ]
    }
   ],
   "source": [
    "human_age = int(input('Enter your age and determine the status of your life: '))\n",
    "if human_age<2:\n",
    "    print('You are baby ')\n",
    "elif human_age >=2 and human_age<4:\n",
    "    print('You are toddler')\n",
    "elif human_age >=4 and human_age<13:\n",
    "    print('You are kid')\n",
    "elif human_age >=13 and human_age<20:\n",
    "    print('You are teenager')\n",
    "elif human_age>=20 and human_age<65:\n",
    "    print('You are an adult')\n",
    "else:\n",
    "    print('You are an elder')"
   ]
  },
  {
   "cell_type": "code",
   "execution_count": 117,
   "metadata": {},
   "outputs": [
    {
     "name": "stdout",
     "output_type": "stream",
     "text": [
      "Enter your age and determine the status of your life: 2\n",
      "You are toddler\n"
     ]
    }
   ],
   "source": [
    "human_age = int(input('Enter your age and determine the status of your life: '))\n",
    "if human_age<2:\n",
    "    print('You are baby ')\n",
    "elif human_age >=2 and human_age<4:\n",
    "    print('You are toddler')\n",
    "elif human_age >=4 and human_age<13:\n",
    "    print('You are kid')\n",
    "elif human_age >=13 and human_age<20:\n",
    "    print('You are teenager')\n",
    "elif human_age>=20 and human_age<65:\n",
    "    print('You are an adult')\n",
    "else:\n",
    "    print('You are an elder')"
   ]
  },
  {
   "cell_type": "code",
   "execution_count": 118,
   "metadata": {},
   "outputs": [
    {
     "name": "stdout",
     "output_type": "stream",
     "text": [
      "Enter your age and determine the status of your life: 5\n",
      "You are kid\n"
     ]
    }
   ],
   "source": [
    "human_age = int(input('Enter your age and determine the status of your life: '))\n",
    "if human_age<2:\n",
    "    print('You are baby ')\n",
    "elif human_age >=2 and human_age<4:\n",
    "    print('You are toddler')\n",
    "elif human_age >=4 and human_age<13:\n",
    "    print('You are kid')\n",
    "elif human_age >=13 and human_age<20:\n",
    "    print('You are teenager')\n",
    "elif human_age>=20 and human_age<65:\n",
    "    print('You are an adult')\n",
    "else:\n",
    "    print('You are an elder')"
   ]
  },
  {
   "cell_type": "code",
   "execution_count": 119,
   "metadata": {},
   "outputs": [
    {
     "name": "stdout",
     "output_type": "stream",
     "text": [
      "Enter your age and determine the status of your life: 16\n",
      "You are teenager\n"
     ]
    }
   ],
   "source": [
    "human_age = int(input('Enter your age and determine the status of your life: '))\n",
    "if human_age<2:\n",
    "    print('You are baby ')\n",
    "elif human_age >=2 and human_age<4:\n",
    "    print('You are toddler')\n",
    "elif human_age >=4 and human_age<13:\n",
    "    print('You are kid')\n",
    "elif human_age >=13 and human_age<20:\n",
    "    print('You are teenager')\n",
    "elif human_age>=20 and human_age<65:\n",
    "    print('You are an adult')\n",
    "else:\n",
    "    print('You are an elder')"
   ]
  },
  {
   "cell_type": "code",
   "execution_count": 120,
   "metadata": {},
   "outputs": [
    {
     "name": "stdout",
     "output_type": "stream",
     "text": [
      "Enter your age and determine the status of your life: 25\n",
      "You are an adult\n"
     ]
    }
   ],
   "source": [
    "human_age = int(input('Enter your age and determine the status of your life: '))\n",
    "if human_age<2:\n",
    "    print('You are baby ')\n",
    "elif human_age >=2 and human_age<4:\n",
    "    print('You are toddler')\n",
    "elif human_age >=4 and human_age<13:\n",
    "    print('You are kid')\n",
    "elif human_age >=13 and human_age<20:\n",
    "    print('You are teenager')\n",
    "elif human_age>=20 and human_age<65:\n",
    "    print('You are an adult')\n",
    "else:\n",
    "    print('You are an elder')"
   ]
  },
  {
   "cell_type": "code",
   "execution_count": 121,
   "metadata": {},
   "outputs": [
    {
     "name": "stdout",
     "output_type": "stream",
     "text": [
      "Enter your age and determine the status of your life: 85\n",
      "You are an elder\n"
     ]
    }
   ],
   "source": [
    "human_age = int(input('Enter your age and determine the status of your life: '))\n",
    "if human_age<2:\n",
    "    print('You are baby ')\n",
    "elif human_age >=2 and human_age<4:\n",
    "    print('You are toddler')\n",
    "elif human_age >=4 and human_age<13:\n",
    "    print('You are kid')\n",
    "elif human_age >=13 and human_age<20:\n",
    "    print('You are teenager')\n",
    "elif human_age>=20 and human_age<65:\n",
    "    print('You are an adult')\n",
    "else:\n",
    "    print('You are an elder')"
   ]
  },
  {
   "cell_type": "markdown",
   "metadata": {},
   "source": [
    "# Q11:"
   ]
  },
  {
   "cell_type": "markdown",
   "metadata": {},
   "source": [
    "Do the following to create a program that simulates how websites ensure that everyone has a unique username.\n",
    "\n",
    "•\t Make a list of five or more usernames called current_users.\n",
    "\n",
    "•\t Make another list of five usernames called new_users. \n",
    "Make sure one or two of the new usernames are also in the current_users list.\n",
    "\n",
    "•\t Loop through the new_users list to see if each new username has already been used. \n",
    "If it has, print a message that the person will need to enter a new username. \n",
    "If a username has not been used, print a message saying that the username is available.\n",
    "\n",
    "•\t Make sure your comparison is case insensitive. If 'John' has been used, 'JOHN' should not be accepted."
   ]
  },
  {
   "cell_type": "code",
   "execution_count": 8,
   "metadata": {},
   "outputs": [],
   "source": [
    "current_users = ['saad','ali','mehran','amim','khalid']\n",
    "new_users = ['mehtab','usman','muneeb','mehran','khalid']"
   ]
  },
  {
   "cell_type": "code",
   "execution_count": 9,
   "metadata": {},
   "outputs": [
    {
     "name": "stdout",
     "output_type": "stream",
     "text": [
      "mehtab username is available\n",
      "usman username is available\n",
      "muneeb username is available\n",
      "mehran username is not available, Please change your name\n",
      "khalid username is not available, Please change your name\n"
     ]
    }
   ],
   "source": [
    "for name in new_users:\n",
    "    if name in current_users:\n",
    "        print(f'{name} username is not available, Please change your name')\n",
    "    else:\n",
    "        print(f'{name} username is available')"
   ]
  },
  {
   "cell_type": "code",
   "execution_count": null,
   "metadata": {},
   "outputs": [],
   "source": []
  },
  {
   "cell_type": "code",
   "execution_count": null,
   "metadata": {},
   "outputs": [],
   "source": []
  },
  {
   "cell_type": "markdown",
   "metadata": {},
   "source": [
    "# Q12:"
   ]
  },
  {
   "cell_type": "markdown",
   "metadata": {},
   "source": [
    "Use a dictionary to store information about a person you know.\n",
    "Store their first name, last name, age, and the city in which they live. \n",
    "You should have keys such as first_name, last_name, age, and city. \n",
    "Print each piece of information stored in your dictionary"
   ]
  },
  {
   "cell_type": "code",
   "execution_count": 129,
   "metadata": {},
   "outputs": [
    {
     "name": "stdout",
     "output_type": "stream",
     "text": [
      "first_name Syed\n",
      "last_name Saad\n",
      "age 17\n",
      "city Karachi\n"
     ]
    }
   ],
   "source": [
    "person_info = {'first_name':\"Syed\", 'last_name':\"Saad\", 'age':17, 'city':\"Karachi\"}\n",
    "for a,b in person_info.items():\n",
    "    print(a,b)"
   ]
  },
  {
   "cell_type": "code",
   "execution_count": null,
   "metadata": {},
   "outputs": [],
   "source": []
  },
  {
   "cell_type": "code",
   "execution_count": null,
   "metadata": {},
   "outputs": [],
   "source": []
  },
  {
   "cell_type": "code",
   "execution_count": null,
   "metadata": {},
   "outputs": [],
   "source": []
  },
  {
   "cell_type": "markdown",
   "metadata": {},
   "source": [
    "# Q13:"
   ]
  },
  {
   "cell_type": "markdown",
   "metadata": {},
   "source": [
    "Starts with your last question 12 , loop through the dictionary’s keys and values.\n",
    "When you’re sure that your loop works, add five more Python terms to your\n",
    "dictionary . When you run your program again, these new words and meanings\n",
    "should automatically be included in the output."
   ]
  },
  {
   "cell_type": "code",
   "execution_count": 131,
   "metadata": {},
   "outputs": [
    {
     "name": "stdout",
     "output_type": "stream",
     "text": [
      "first_name Syed\n",
      "last_name Saad\n",
      "age 17\n",
      "city Karachi\n"
     ]
    }
   ],
   "source": [
    "for x,y in person_info.items():\n",
    "    print(x,y)"
   ]
  },
  {
   "cell_type": "code",
   "execution_count": 132,
   "metadata": {},
   "outputs": [],
   "source": [
    "person_info['degree']=\"Inter\"\n",
    "person_info['language']=\"Urdu\"\n",
    "person_info['favourite_dish']=\"Biryani\"\n",
    "person_info['favourite_sports']=\"Cricket\"\n",
    "person_info['favourite_personality']=\"Quaid-e-Azam\""
   ]
  },
  {
   "cell_type": "code",
   "execution_count": 133,
   "metadata": {},
   "outputs": [
    {
     "name": "stdout",
     "output_type": "stream",
     "text": [
      "first_name Syed\n",
      "last_name Saad\n",
      "age 17\n",
      "city Karachi\n",
      "degree Inter\n",
      "language Urdu\n",
      "favourite_dish Biryani\n",
      "favourite_sports Cricket\n",
      "favourite_personality Quaid-e-Azam\n"
     ]
    }
   ],
   "source": [
    "for b,c in person_info.items():\n",
    "    print(b,c)"
   ]
  },
  {
   "cell_type": "code",
   "execution_count": null,
   "metadata": {},
   "outputs": [],
   "source": []
  },
  {
   "cell_type": "code",
   "execution_count": null,
   "metadata": {},
   "outputs": [],
   "source": []
  },
  {
   "cell_type": "markdown",
   "metadata": {},
   "source": [
    "# Q14:"
   ]
  },
  {
   "cell_type": "markdown",
   "metadata": {},
   "source": [
    "Make a dictionary containing three major rivers and the country\n",
    "each river runs through. One key-value pair might be 'nile': 'egypt'.\n",
    "    \n",
    "    \n",
    "•\t Use a loop to print a sentence about each river, such as The Nile runs\n",
    "through Egypt.\n",
    "\n",
    "NOTE: use upper case through keys and values."
   ]
  },
  {
   "cell_type": "code",
   "execution_count": 143,
   "metadata": {},
   "outputs": [
    {
     "name": "stdout",
     "output_type": "stream",
     "text": [
      "Darya-e-Sindh\n",
      "Darya-e-Sindh runs through Sindh\n",
      "Nile\n",
      "Nile runs through Egypt\n",
      "Darya-e-Jehlum\n",
      "Darya-e-Jehlum runs through Jehlum\n"
     ]
    }
   ],
   "source": [
    "rivers = {'Darya-e-Sindh':\"Pakistan\",'Nile':\"Egypt\",'Darya-e-Jehlum':\"Pakistan\"}\n",
    "for a in rivers.keys():\n",
    "    if a=='Darya-e-Sindh':\n",
    "        print(a)\n",
    "        print('Darya-e-Sindh runs through Sindh')\n",
    "    elif a=='Nile':\n",
    "        print(a)\n",
    "        print('Nile runs through Egypt')\n",
    "    else:\n",
    "        print(a)\n",
    "        print('Darya-e-Jehlum runs through Jehlum')"
   ]
  },
  {
   "cell_type": "code",
   "execution_count": null,
   "metadata": {},
   "outputs": [],
   "source": []
  },
  {
   "cell_type": "code",
   "execution_count": null,
   "metadata": {},
   "outputs": [],
   "source": []
  },
  {
   "cell_type": "markdown",
   "metadata": {},
   "source": [
    "# Q15:"
   ]
  },
  {
   "cell_type": "markdown",
   "metadata": {},
   "source": [
    "Make several dictionaries, where the name of each dictionary is the\n",
    "name of a pet. In each dictionary, include the kind of animal and the owner’s\n",
    "name. Store these dictionaries in a list called pets. Next, loop through your list\n",
    "and as you do print everything you know about each pet."
   ]
  },
  {
   "cell_type": "code",
   "execution_count": 6,
   "metadata": {},
   "outputs": [
    {
     "name": "stdout",
     "output_type": "stream",
     "text": [
      "{'Animal Type': 'Cat', 'Owner Name': 'Syed Saad'}\n",
      "{'Animal Type': 'Dog', 'Owner Name': 'Khalid Usman'}\n",
      "{'Animal Type': 'Dog', 'Owner Name': 'Usama Shahid'}\n"
     ]
    }
   ],
   "source": [
    "kitten = {'Animal Type':\"Cat\",'Owner Name':\"Syed Saad\"}\n",
    "puppy = {'Animal Type':\"Dog\",'Owner Name':\"Khalid Usman\"}\n",
    "dog = {'Animal Type':\"Dog\",'Owner Name':\"Usama Shahid\"}\n",
    "pets = [kitten,puppy,dog]\n",
    "for pet in pets:\n",
    "    print(pet)"
   ]
  },
  {
   "cell_type": "code",
   "execution_count": null,
   "metadata": {},
   "outputs": [],
   "source": []
  }
 ],
 "metadata": {
  "kernelspec": {
   "display_name": "Python 3",
   "language": "python",
   "name": "python3"
  },
  "language_info": {
   "codemirror_mode": {
    "name": "ipython",
    "version": 3
   },
   "file_extension": ".py",
   "mimetype": "text/x-python",
   "name": "python",
   "nbconvert_exporter": "python",
   "pygments_lexer": "ipython3",
   "version": "3.7.3"
  }
 },
 "nbformat": 4,
 "nbformat_minor": 2
}
